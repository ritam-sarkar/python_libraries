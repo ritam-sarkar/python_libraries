{
  "nbformat": 4,
  "nbformat_minor": 0,
  "metadata": {
    "colab": {
      "name": "pandas_tutorial.ipynb",
      "provenance": [],
      "collapsed_sections": []
    },
    "kernelspec": {
      "name": "python3",
      "display_name": "Python 3"
    },
    "language_info": {
      "name": "python"
    }
  },
  "cells": [
    {
      "cell_type": "markdown",
      "source": [
        ""
      ],
      "metadata": {
        "id": "oWvHduIMKUuG"
      }
    },
    {
      "cell_type": "markdown",
      "source": [
        "**import library**"
      ],
      "metadata": {
        "id": "RjtkStQ4Kkj6"
      }
    },
    {
      "cell_type": "code",
      "source": [
        "import pandas as pd\n",
        "df = pd.read_csv('pokemon_data.csv')\n"
      ],
      "metadata": {
        "id": "dJqIJ9wHKpHO"
      },
      "execution_count": 1,
      "outputs": []
    },
    {
      "cell_type": "markdown",
      "source": [
        "#Load data"
      ],
      "metadata": {
        "id": "40529fcjMQqs"
      }
    },
    {
      "cell_type": "code",
      "source": [
        "# print 1st 10 rows\n",
        "#print(df.head(10))\n",
        "\n",
        "# print last 5 rows\n",
        "#print(df.tail(5))\n",
        "\n",
        "# print call column keys\n",
        "print(df.columns)\n",
        "\n",
        "# print a specific column\n",
        "#print(df['HP'])\n",
        "#df.Name\n",
        "\n",
        "# print 0th row\n",
        "#df.iloc[0]\n",
        "\n",
        "# print 0 to 4th row\n",
        "print(df.iloc[0:4])\n",
        "\n",
        "# print at 0th row 4th column\n",
        "print(df.iloc[0,4])"
      ],
      "metadata": {
        "colab": {
          "base_uri": "https://localhost:8080/"
        },
        "id": "6SvL-rwSMSxM",
        "outputId": "bcc04de6-3e6e-47b0-fe5b-58740906bd6c"
      },
      "execution_count": null,
      "outputs": [
        {
          "output_type": "stream",
          "name": "stdout",
          "text": [
            "Index(['#', 'Name', 'Type 1', 'Type 2', 'HP', 'Attack', 'Defense', 'Sp. Atk',\n",
            "       'Sp. Def', 'Speed', 'Generation', 'Legendary'],\n",
            "      dtype='object')\n",
            "   #                   Name Type 1  Type 2  HP  Attack  Defense  Sp. Atk  \\\n",
            "0  1              Bulbasaur  Grass  Poison  45      49       49       65   \n",
            "1  2                Ivysaur  Grass  Poison  60      62       63       80   \n",
            "2  3               Venusaur  Grass  Poison  80      82       83      100   \n",
            "3  3  VenusaurMega Venusaur  Grass  Poison  80     100      123      122   \n",
            "\n",
            "   Sp. Def  Speed  Generation  Legendary  \n",
            "0       65     45           1      False  \n",
            "1       80     60           1      False  \n",
            "2      100     80           1      False  \n",
            "3      120     80           1      False  \n",
            "45\n"
          ]
        }
      ]
    },
    {
      "cell_type": "code",
      "source": [
        "# Use itetator\n",
        "# here index = row number , row = key value pair of the row\n",
        "# as i < 1 so it prints only 1st row\n",
        "i = 0\n",
        "for index, row in df.iterrows():\n",
        "  if(i < 1):\n",
        "    print(row['Name'])\n",
        "    print(row['Type 1'])\n",
        "  else:\n",
        "    break  \n",
        "  i = i+1\n",
        "\n",
        "\n"
      ],
      "metadata": {
        "colab": {
          "base_uri": "https://localhost:8080/"
        },
        "id": "EzPeeVoETXwt",
        "outputId": "25272c57-1c26-44f2-86a6-86fbf06f68c0"
      },
      "execution_count": null,
      "outputs": [
        {
          "output_type": "stream",
          "name": "stdout",
          "text": [
            "Bulbasaur\n",
            "Grass\n"
          ]
        }
      ]
    },
    {
      "cell_type": "markdown",
      "source": [
        "\n",
        "\n",
        "*   loc selects rows and columns with specific labels. \n",
        "*   iloc selects rows and columns at specific integer positions\n",
        "https://pandas.pydata.org/pandas-docs/stable/getting_started/intro_tutorials/03_subset_data.html\n"
      ],
      "metadata": {
        "id": "9_HopCWMKTtQ"
      }
    },
    {
      "cell_type": "code",
      "source": [
        "# loc\n",
        "\n",
        "print(\"0th and 2nd row\")\n",
        "print(df.loc[[0,2]])\n",
        "print(\"------------------------------------------------\")\n",
        "\n",
        "print(\"0th and 2nd row and Name and Type 1\")\n",
        "print(df.loc[[0,2], ['Name','Type 1']])\n",
        "print(\"------------------------------------------------\")\n",
        "\n",
        "print(\"0 to 2nd row\")\n",
        "print(df.loc[0:2])\n",
        "print(\"------------------------------------------------\")\n",
        "\n",
        "#print(\"find all rows where Type 1 = Fire\")\n",
        " # print(df.loc[df['Type 1'] == 'Fire'])\n",
        "# print(\"------------------------------------------------\")\n",
        "\n",
        "#print(\"find all Name where HP < 40\")\n",
        "print(df.loc[(df.HP < 40), ['Name']])\n",
        "# print(\"------------------------------------------------\")\n",
        "\n",
        "print(\"rows from 798th row  and  0th column to 'Type 2'\")\n",
        "print(df.loc[798:,:'Type 2'])\n",
        "print(\"------------------------------------------------\")\n"
      ],
      "metadata": {
        "colab": {
          "base_uri": "https://localhost:8080/"
        },
        "id": "f9lzfXLKZ9l3",
        "outputId": "57fb5ac9-f959-4f01-9e5e-e025fe06d6ba"
      },
      "execution_count": 12,
      "outputs": [
        {
          "output_type": "stream",
          "name": "stdout",
          "text": [
            "0th and 2nd row\n",
            "   #       Name Type 1  Type 2  HP  Attack  Defense  Sp. Atk  Sp. Def  Speed  \\\n",
            "0  1  Bulbasaur  Grass  Poison  45      49       49       65       65     45   \n",
            "2  3   Venusaur  Grass  Poison  80      82       83      100      100     80   \n",
            "\n",
            "   Generation  Legendary  Total  \n",
            "0           1      False    318  \n",
            "2           1      False    525  \n",
            "------------------------------------------------\n",
            "0th and 2nd row and Name and Type 1\n",
            "        Name Type 1\n",
            "0  Bulbasaur  Grass\n",
            "2   Venusaur  Grass\n",
            "------------------------------------------------\n",
            "0 to 2nd row\n",
            "   #       Name Type 1  Type 2  HP  Attack  Defense  Sp. Atk  Sp. Def  Speed  \\\n",
            "0  1  Bulbasaur  Grass  Poison  45      49       49       65       65     45   \n",
            "1  2    Ivysaur  Grass  Poison  60      62       63       80       80     60   \n",
            "2  3   Venusaur  Grass  Poison  80      82       83      100      100     80   \n",
            "\n",
            "   Generation  Legendary  Total  \n",
            "0           1      False    318  \n",
            "1           1      False    405  \n",
            "2           1      False    525  \n",
            "------------------------------------------------\n",
            "           Name\n",
            "4    Charmander\n",
            "24      Rattata\n",
            "28        Ekans\n",
            "30      Pikachu\n",
            "42       Vulpix\n",
            "51        Paras\n",
            "55      Diglett\n",
            "56      Dugtrio\n",
            "68         Abra\n",
            "88    Magnemite\n",
            "91        Doduo\n",
            "97     Shellder\n",
            "99       Gastly\n",
            "103        Onix\n",
            "106      Krabby\n",
            "125      Horsea\n",
            "129      Staryu\n",
            "139    Magikarp\n",
            "149     Omanyte\n",
            "151      Kabuto\n",
            "169   Cyndaquil\n",
            "175     Sentret\n",
            "186       Pichu\n",
            "189      Togepi\n",
            "202      Hoppip\n",
            "206     Sunkern\n",
            "230     Shuckle\n",
            "241    Remoraid\n",
            "255     Tyrogue\n",
            "284   Poochyena\n",
            "286   Zigzagoon\n",
            "303       Ralts\n",
            "304      Kirlia\n",
            "314     Nincada\n",
            "316    Shedinja\n",
            "323    Nosepass\n",
            "334    Meditite\n",
            "381      Feebas\n",
            "388     Duskull\n",
            "401    Clamperl\n",
            "446   Kricketot\n",
            "455    Shieldon\n",
            "462      Combee\n",
            "487    Mime Jr.\n",
            "603    Venipede\n",
            "623      Yamask\n",
            "643   Vanillite\n",
            "663      Tynamo\n",
            "727    Bunnelby\n",
            "732  Scatterbug\n",
            "rows from 798th row  and  0th column to 'Type 2'\n",
            "       #                Name   Type 1 Type 2\n",
            "798  720  HoopaHoopa Unbound  Psychic   Dark\n",
            "799  721           Volcanion     Fire  Water\n",
            "------------------------------------------------\n"
          ]
        }
      ]
    },
    {
      "cell_type": "markdown",
      "source": [
        "iloc() is a indexed based selecting method which means that we have to pass integer index in the method to select specific row/column. This method does not include the last element of the range passed in it unlike loc()"
      ],
      "metadata": {
        "id": "FctFys1NmScO"
      }
    },
    {
      "cell_type": "code",
      "source": [
        "# iloc\n",
        "print(df.iloc[0:2])\n",
        "\n",
        "print(\"find all rows where Type 1 = Fire will not work for iloc\")\n",
        "# iLocation based boolean indexing on an integer type is not available\n",
        "#print(df.iloc[df['Type 1'] == 'Fire'])"
      ],
      "metadata": {
        "colab": {
          "base_uri": "https://localhost:8080/"
        },
        "id": "83vxC8zTjBgc",
        "outputId": "03996051-da08-445b-b526-0972cbaebf61"
      },
      "execution_count": null,
      "outputs": [
        {
          "output_type": "stream",
          "name": "stdout",
          "text": [
            "   #       Name Type 1  Type 2  HP  Attack  Defense  Sp. Atk  Sp. Def  Speed  \\\n",
            "0  1  Bulbasaur  Grass  Poison  45      49       49       65       65     45   \n",
            "1  2    Ivysaur  Grass  Poison  60      62       63       80       80     60   \n",
            "\n",
            "   Generation  Legendary  \n",
            "0           1      False  \n",
            "1           1      False  \n",
            "find all rows where Type 1 = Fire will not work for iloc\n"
          ]
        }
      ]
    },
    {
      "cell_type": "markdown",
      "source": [
        "## Sort and describe data"
      ],
      "metadata": {
        "id": "6OZZ4BVvoC05"
      }
    },
    {
      "cell_type": "code",
      "source": [
        "print(df.describe())\n",
        "print(df[['HP', 'Attack']].median())\n",
        "#print(\"sort values by name by default acending\")\n",
        "#print(df.sort_values('Name',ascending = False))\n",
        "# print(\"------------------------------------------------\")\n",
        "# print(\"sort using multiple column \")\n",
        "# print(df.sort_values(['Name','HP'], ascending = [1,0]))\n",
        "# print(\"------------------------------------------------\")"
      ],
      "metadata": {
        "colab": {
          "base_uri": "https://localhost:8080/"
        },
        "id": "camaFEHToFvt",
        "outputId": "46d4c0ed-9519-4603-94d6-28a91f6cddd8"
      },
      "execution_count": 26,
      "outputs": [
        {
          "output_type": "stream",
          "name": "stdout",
          "text": [
            "                #          HP      Attack     Defense     Sp. Atk     Sp. Def  \\\n",
            "count  800.000000  800.000000  800.000000  800.000000  800.000000  800.000000   \n",
            "mean   362.813750   69.258750   79.001250   73.842500   72.820000   71.902500   \n",
            "std    208.343798   25.534669   32.457366   31.183501   32.722294   27.828916   \n",
            "min      1.000000    1.000000    5.000000    5.000000   10.000000   20.000000   \n",
            "25%    184.750000   50.000000   55.000000   50.000000   49.750000   50.000000   \n",
            "50%    364.500000   65.000000   75.000000   70.000000   65.000000   70.000000   \n",
            "75%    539.250000   80.000000  100.000000   90.000000   95.000000   90.000000   \n",
            "max    721.000000  255.000000  190.000000  230.000000  194.000000  230.000000   \n",
            "\n",
            "            Speed  Generation      Total  \n",
            "count  800.000000   800.00000  800.00000  \n",
            "mean    68.277500     3.32375  435.10250  \n",
            "std     29.060474     1.66129  119.96304  \n",
            "min      5.000000     1.00000  180.00000  \n",
            "25%     45.000000     2.00000  330.00000  \n",
            "50%     65.000000     3.00000  450.00000  \n",
            "75%     90.000000     5.00000  515.00000  \n",
            "max    180.000000     6.00000  780.00000  \n",
            "HP        65.0\n",
            "Attack    75.0\n",
            "dtype: float64\n"
          ]
        }
      ]
    },
    {
      "cell_type": "markdown",
      "source": [
        "## Aggregation"
      ],
      "metadata": {
        "id": "GJ5xCu6vyg4A"
      }
    },
    {
      "cell_type": "code",
      "source": [
        "df['HP'] + df['Attack'] + df['Defense']\n",
        "# All rows , 4 to 10 th column , axis =1 means add column values \n",
        "df['Total'] = df.iloc[: , 4:10].sum(axis = 1)\n",
        "# group by and mean\n",
        "df.groupby(['Type 1']).mean()\n",
        "df.groupby(['Type 1','Type 2']).mean()\n"
      ],
      "metadata": {
        "id": "tL2Imon6ykBe",
        "colab": {
          "base_uri": "https://localhost:8080/",
          "height": 537
        },
        "outputId": "73d5a0b8-6b8e-4d8a-fd80-a59b2d20b30a"
      },
      "execution_count": 19,
      "outputs": [
        {
          "output_type": "execute_result",
          "data": {
            "text/plain": [
              "                          #         HP      Attack     Defense     Sp. Atk  \\\n",
              "Type 1 Type 2                                                                \n",
              "Bug    Electric  595.500000  60.000000   62.000000   55.000000   77.000000   \n",
              "       Fighting  214.000000  80.000000  155.000000   95.000000   40.000000   \n",
              "       Fire      636.500000  70.000000   72.500000   60.000000   92.500000   \n",
              "       Flying    286.285714  63.000000   70.142857   61.571429   72.857143   \n",
              "       Ghost     292.000000   1.000000   90.000000   45.000000   30.000000   \n",
              "...                     ...        ...         ...         ...         ...   \n",
              "Water  Ice       103.000000  90.000000   83.333333  113.333333   80.000000   \n",
              "       Poison    118.666667  61.666667   68.333333   58.333333   61.666667   \n",
              "       Psychic   111.800000  87.000000   73.000000  104.000000   94.000000   \n",
              "       Rock      430.000000  70.750000   82.750000  112.750000   61.500000   \n",
              "       Steel     395.000000  84.000000   86.000000   88.000000  111.000000   \n",
              "\n",
              "                    Sp. Def      Speed  Generation  Legendary       Total  \n",
              "Type 1 Type 2                                                              \n",
              "Bug    Electric   55.000000  86.500000    5.000000        0.0  395.500000  \n",
              "       Fighting  100.000000  80.000000    2.000000        0.0  550.000000  \n",
              "       Fire       80.000000  80.000000    5.000000        0.0  455.000000  \n",
              "       Flying     69.071429  82.857143    2.857143        0.0  419.500000  \n",
              "       Ghost      30.000000  40.000000    3.000000        0.0  236.000000  \n",
              "...                     ...        ...         ...        ...         ...  \n",
              "Water  Ice        78.333333  66.666667    1.000000        0.0  511.666667  \n",
              "       Poison     91.666667  85.000000    1.333333        0.0  426.666667  \n",
              "       Psychic    79.000000  44.000000    1.200000        0.0  481.000000  \n",
              "       Rock       65.000000  36.000000    3.750000        0.0  428.750000  \n",
              "       Steel     101.000000  60.000000    4.000000        0.0  530.000000  \n",
              "\n",
              "[136 rows x 10 columns]"
            ],
            "text/html": [
              "\n",
              "  <div id=\"df-ae6c4f9f-ba36-469c-a9d1-512a24455647\">\n",
              "    <div class=\"colab-df-container\">\n",
              "      <div>\n",
              "<style scoped>\n",
              "    .dataframe tbody tr th:only-of-type {\n",
              "        vertical-align: middle;\n",
              "    }\n",
              "\n",
              "    .dataframe tbody tr th {\n",
              "        vertical-align: top;\n",
              "    }\n",
              "\n",
              "    .dataframe thead th {\n",
              "        text-align: right;\n",
              "    }\n",
              "</style>\n",
              "<table border=\"1\" class=\"dataframe\">\n",
              "  <thead>\n",
              "    <tr style=\"text-align: right;\">\n",
              "      <th></th>\n",
              "      <th></th>\n",
              "      <th>#</th>\n",
              "      <th>HP</th>\n",
              "      <th>Attack</th>\n",
              "      <th>Defense</th>\n",
              "      <th>Sp. Atk</th>\n",
              "      <th>Sp. Def</th>\n",
              "      <th>Speed</th>\n",
              "      <th>Generation</th>\n",
              "      <th>Legendary</th>\n",
              "      <th>Total</th>\n",
              "    </tr>\n",
              "    <tr>\n",
              "      <th>Type 1</th>\n",
              "      <th>Type 2</th>\n",
              "      <th></th>\n",
              "      <th></th>\n",
              "      <th></th>\n",
              "      <th></th>\n",
              "      <th></th>\n",
              "      <th></th>\n",
              "      <th></th>\n",
              "      <th></th>\n",
              "      <th></th>\n",
              "      <th></th>\n",
              "    </tr>\n",
              "  </thead>\n",
              "  <tbody>\n",
              "    <tr>\n",
              "      <th rowspan=\"5\" valign=\"top\">Bug</th>\n",
              "      <th>Electric</th>\n",
              "      <td>595.500000</td>\n",
              "      <td>60.000000</td>\n",
              "      <td>62.000000</td>\n",
              "      <td>55.000000</td>\n",
              "      <td>77.000000</td>\n",
              "      <td>55.000000</td>\n",
              "      <td>86.500000</td>\n",
              "      <td>5.000000</td>\n",
              "      <td>0.0</td>\n",
              "      <td>395.500000</td>\n",
              "    </tr>\n",
              "    <tr>\n",
              "      <th>Fighting</th>\n",
              "      <td>214.000000</td>\n",
              "      <td>80.000000</td>\n",
              "      <td>155.000000</td>\n",
              "      <td>95.000000</td>\n",
              "      <td>40.000000</td>\n",
              "      <td>100.000000</td>\n",
              "      <td>80.000000</td>\n",
              "      <td>2.000000</td>\n",
              "      <td>0.0</td>\n",
              "      <td>550.000000</td>\n",
              "    </tr>\n",
              "    <tr>\n",
              "      <th>Fire</th>\n",
              "      <td>636.500000</td>\n",
              "      <td>70.000000</td>\n",
              "      <td>72.500000</td>\n",
              "      <td>60.000000</td>\n",
              "      <td>92.500000</td>\n",
              "      <td>80.000000</td>\n",
              "      <td>80.000000</td>\n",
              "      <td>5.000000</td>\n",
              "      <td>0.0</td>\n",
              "      <td>455.000000</td>\n",
              "    </tr>\n",
              "    <tr>\n",
              "      <th>Flying</th>\n",
              "      <td>286.285714</td>\n",
              "      <td>63.000000</td>\n",
              "      <td>70.142857</td>\n",
              "      <td>61.571429</td>\n",
              "      <td>72.857143</td>\n",
              "      <td>69.071429</td>\n",
              "      <td>82.857143</td>\n",
              "      <td>2.857143</td>\n",
              "      <td>0.0</td>\n",
              "      <td>419.500000</td>\n",
              "    </tr>\n",
              "    <tr>\n",
              "      <th>Ghost</th>\n",
              "      <td>292.000000</td>\n",
              "      <td>1.000000</td>\n",
              "      <td>90.000000</td>\n",
              "      <td>45.000000</td>\n",
              "      <td>30.000000</td>\n",
              "      <td>30.000000</td>\n",
              "      <td>40.000000</td>\n",
              "      <td>3.000000</td>\n",
              "      <td>0.0</td>\n",
              "      <td>236.000000</td>\n",
              "    </tr>\n",
              "    <tr>\n",
              "      <th>...</th>\n",
              "      <th>...</th>\n",
              "      <td>...</td>\n",
              "      <td>...</td>\n",
              "      <td>...</td>\n",
              "      <td>...</td>\n",
              "      <td>...</td>\n",
              "      <td>...</td>\n",
              "      <td>...</td>\n",
              "      <td>...</td>\n",
              "      <td>...</td>\n",
              "      <td>...</td>\n",
              "    </tr>\n",
              "    <tr>\n",
              "      <th rowspan=\"5\" valign=\"top\">Water</th>\n",
              "      <th>Ice</th>\n",
              "      <td>103.000000</td>\n",
              "      <td>90.000000</td>\n",
              "      <td>83.333333</td>\n",
              "      <td>113.333333</td>\n",
              "      <td>80.000000</td>\n",
              "      <td>78.333333</td>\n",
              "      <td>66.666667</td>\n",
              "      <td>1.000000</td>\n",
              "      <td>0.0</td>\n",
              "      <td>511.666667</td>\n",
              "    </tr>\n",
              "    <tr>\n",
              "      <th>Poison</th>\n",
              "      <td>118.666667</td>\n",
              "      <td>61.666667</td>\n",
              "      <td>68.333333</td>\n",
              "      <td>58.333333</td>\n",
              "      <td>61.666667</td>\n",
              "      <td>91.666667</td>\n",
              "      <td>85.000000</td>\n",
              "      <td>1.333333</td>\n",
              "      <td>0.0</td>\n",
              "      <td>426.666667</td>\n",
              "    </tr>\n",
              "    <tr>\n",
              "      <th>Psychic</th>\n",
              "      <td>111.800000</td>\n",
              "      <td>87.000000</td>\n",
              "      <td>73.000000</td>\n",
              "      <td>104.000000</td>\n",
              "      <td>94.000000</td>\n",
              "      <td>79.000000</td>\n",
              "      <td>44.000000</td>\n",
              "      <td>1.200000</td>\n",
              "      <td>0.0</td>\n",
              "      <td>481.000000</td>\n",
              "    </tr>\n",
              "    <tr>\n",
              "      <th>Rock</th>\n",
              "      <td>430.000000</td>\n",
              "      <td>70.750000</td>\n",
              "      <td>82.750000</td>\n",
              "      <td>112.750000</td>\n",
              "      <td>61.500000</td>\n",
              "      <td>65.000000</td>\n",
              "      <td>36.000000</td>\n",
              "      <td>3.750000</td>\n",
              "      <td>0.0</td>\n",
              "      <td>428.750000</td>\n",
              "    </tr>\n",
              "    <tr>\n",
              "      <th>Steel</th>\n",
              "      <td>395.000000</td>\n",
              "      <td>84.000000</td>\n",
              "      <td>86.000000</td>\n",
              "      <td>88.000000</td>\n",
              "      <td>111.000000</td>\n",
              "      <td>101.000000</td>\n",
              "      <td>60.000000</td>\n",
              "      <td>4.000000</td>\n",
              "      <td>0.0</td>\n",
              "      <td>530.000000</td>\n",
              "    </tr>\n",
              "  </tbody>\n",
              "</table>\n",
              "<p>136 rows × 10 columns</p>\n",
              "</div>\n",
              "      <button class=\"colab-df-convert\" onclick=\"convertToInteractive('df-ae6c4f9f-ba36-469c-a9d1-512a24455647')\"\n",
              "              title=\"Convert this dataframe to an interactive table.\"\n",
              "              style=\"display:none;\">\n",
              "        \n",
              "  <svg xmlns=\"http://www.w3.org/2000/svg\" height=\"24px\"viewBox=\"0 0 24 24\"\n",
              "       width=\"24px\">\n",
              "    <path d=\"M0 0h24v24H0V0z\" fill=\"none\"/>\n",
              "    <path d=\"M18.56 5.44l.94 2.06.94-2.06 2.06-.94-2.06-.94-.94-2.06-.94 2.06-2.06.94zm-11 1L8.5 8.5l.94-2.06 2.06-.94-2.06-.94L8.5 2.5l-.94 2.06-2.06.94zm10 10l.94 2.06.94-2.06 2.06-.94-2.06-.94-.94-2.06-.94 2.06-2.06.94z\"/><path d=\"M17.41 7.96l-1.37-1.37c-.4-.4-.92-.59-1.43-.59-.52 0-1.04.2-1.43.59L10.3 9.45l-7.72 7.72c-.78.78-.78 2.05 0 2.83L4 21.41c.39.39.9.59 1.41.59.51 0 1.02-.2 1.41-.59l7.78-7.78 2.81-2.81c.8-.78.8-2.07 0-2.86zM5.41 20L4 18.59l7.72-7.72 1.47 1.35L5.41 20z\"/>\n",
              "  </svg>\n",
              "      </button>\n",
              "      \n",
              "  <style>\n",
              "    .colab-df-container {\n",
              "      display:flex;\n",
              "      flex-wrap:wrap;\n",
              "      gap: 12px;\n",
              "    }\n",
              "\n",
              "    .colab-df-convert {\n",
              "      background-color: #E8F0FE;\n",
              "      border: none;\n",
              "      border-radius: 50%;\n",
              "      cursor: pointer;\n",
              "      display: none;\n",
              "      fill: #1967D2;\n",
              "      height: 32px;\n",
              "      padding: 0 0 0 0;\n",
              "      width: 32px;\n",
              "    }\n",
              "\n",
              "    .colab-df-convert:hover {\n",
              "      background-color: #E2EBFA;\n",
              "      box-shadow: 0px 1px 2px rgba(60, 64, 67, 0.3), 0px 1px 3px 1px rgba(60, 64, 67, 0.15);\n",
              "      fill: #174EA6;\n",
              "    }\n",
              "\n",
              "    [theme=dark] .colab-df-convert {\n",
              "      background-color: #3B4455;\n",
              "      fill: #D2E3FC;\n",
              "    }\n",
              "\n",
              "    [theme=dark] .colab-df-convert:hover {\n",
              "      background-color: #434B5C;\n",
              "      box-shadow: 0px 1px 3px 1px rgba(0, 0, 0, 0.15);\n",
              "      filter: drop-shadow(0px 1px 2px rgba(0, 0, 0, 0.3));\n",
              "      fill: #FFFFFF;\n",
              "    }\n",
              "  </style>\n",
              "\n",
              "      <script>\n",
              "        const buttonEl =\n",
              "          document.querySelector('#df-ae6c4f9f-ba36-469c-a9d1-512a24455647 button.colab-df-convert');\n",
              "        buttonEl.style.display =\n",
              "          google.colab.kernel.accessAllowed ? 'block' : 'none';\n",
              "\n",
              "        async function convertToInteractive(key) {\n",
              "          const element = document.querySelector('#df-ae6c4f9f-ba36-469c-a9d1-512a24455647');\n",
              "          const dataTable =\n",
              "            await google.colab.kernel.invokeFunction('convertToInteractive',\n",
              "                                                     [key], {});\n",
              "          if (!dataTable) return;\n",
              "\n",
              "          const docLinkHtml = 'Like what you see? Visit the ' +\n",
              "            '<a target=\"_blank\" href=https://colab.research.google.com/notebooks/data_table.ipynb>data table notebook</a>'\n",
              "            + ' to learn more about interactive tables.';\n",
              "          element.innerHTML = '';\n",
              "          dataTable['output_type'] = 'display_data';\n",
              "          await google.colab.output.renderOutput(dataTable, element);\n",
              "          const docLink = document.createElement('div');\n",
              "          docLink.innerHTML = docLinkHtml;\n",
              "          element.appendChild(docLink);\n",
              "        }\n",
              "      </script>\n",
              "    </div>\n",
              "  </div>\n",
              "  "
            ]
          },
          "metadata": {},
          "execution_count": 19
        }
      ]
    },
    {
      "cell_type": "markdown",
      "source": [
        "### Save data"
      ],
      "metadata": {
        "id": "Sky7bSbxEHfl"
      }
    },
    {
      "cell_type": "code",
      "source": [
        "# Whereas read_* functions are used to read data to pandas, the to_* methods are used to store data.\n",
        "# By setting index=False the row index labels are not saved in the spreadsheet.\n",
        "df.to_excel(\"pokemon.xlsx\", sheet_name=\"pkemon\", index=False)"
      ],
      "metadata": {
        "id": "3uwc8vSVEK3q"
      },
      "execution_count": 8,
      "outputs": []
    },
    {
      "cell_type": "markdown",
      "source": [
        "# Plot graph"
      ],
      "metadata": {
        "id": "A5rly43hJ3xB"
      }
    },
    {
      "cell_type": "code",
      "source": [
        "# plot all columns\n",
        "# df.plot()\n",
        "\n",
        "# plot specific column\n",
        "# df['HP'].plot()\n",
        "\n",
        "# scatter plot example\n",
        "# plot.*\n",
        "#df.plot.scatter(x=\"Attack\", y=\"Defense\")\n",
        "# bar plot\n",
        "#df[['Attack','Defense']].plot.bar()\n",
        "df.loc[df['Attack'] > 150, 'Attack'].plot.bar()\n"
      ],
      "metadata": {
        "colab": {
          "base_uri": "https://localhost:8080/",
          "height": 291
        },
        "id": "5qCIIhucKM8m",
        "outputId": "4403d766-3c32-448f-bc82-a579fc03a003"
      },
      "execution_count": 49,
      "outputs": [
        {
          "output_type": "execute_result",
          "data": {
            "text/plain": [
              "<matplotlib.axes._subplots.AxesSubplot at 0x7fa2ce6abd90>"
            ]
          },
          "metadata": {},
          "execution_count": 49
        },
        {
          "output_type": "display_data",
          "data": {
            "text/plain": [
              "<Figure size 432x288 with 1 Axes>"
            ],
            "image/png": "[encoded data removed]"
          },
          "metadata": {
            "needs_background": "light"
          }
        }
      ]
    },
    {
      "cell_type": "markdown",
      "source": [
        "## Concat and merge and join"
      ],
      "metadata": {
        "id": "4je88RGGWe1A"
      }
    },
    {
      "cell_type": "code",
      "source": [
        "df1 = pd.DataFrame(\n",
        "\n",
        "    {\n",
        "\n",
        "        \"A\": [\"A0\", \"A1\", \"A2\", \"A3\"],\n",
        "\n",
        "        \"B\": [\"B0\", \"B1\", \"B2\", \"B3\"],\n",
        "\n",
        "        \"C\": [\"C0\", \"C1\", \"C2\", \"C3\"],\n",
        "\n",
        "        \"D\": [\"D0\", \"D1\", \"D2\", \"D3\"],\n",
        "\n",
        "    },\n",
        "\n",
        "    index=[0, 1, 2, 3],\n",
        "\n",
        ")\n",
        "\n",
        "\n",
        "\n",
        "df2 = pd.DataFrame(\n",
        "\n",
        "    {\n",
        "\n",
        "        \"A\": [\"A4\", \"A5\", \"A6\", \"A7\"],\n",
        "\n",
        "        \"B\": [\"B4\", \"B5\", \"B6\", \"B7\"],\n",
        "\n",
        "        \"C\": [\"C4\", \"C5\", \"C6\", \"C7\"],\n",
        "\n",
        "        \"D\": [\"D4\", \"D5\", \"D6\", \"D7\"],\n",
        "\n",
        "    },\n",
        "\n",
        "    index=[4, 5, 6, 7],\n",
        "\n",
        ")\n",
        "\n",
        "\n",
        "\n",
        "df3 = pd.DataFrame(\n",
        "\n",
        "    {\n",
        "\n",
        "        \"A\": [\"A8\", \"A9\", \"A10\", \"A11\"],\n",
        "\n",
        "        \"B\": [\"B8\", \"B9\", \"B10\", \"B11\"],\n",
        "\n",
        "        \"C\": [\"C8\", \"C9\", \"C10\", \"C11\"],\n",
        "\n",
        "        \"D\": [\"D8\", \"D9\", \"D10\", \"D11\"],\n",
        "\n",
        "    },\n",
        "\n",
        "    index=[8, 9, 10, 11],\n",
        "\n",
        ")\n",
        "print(type([df1,df2,df3]))\n",
        "print(pd.concat([df1,df2,df3]))\n",
        "df4 = pd.DataFrame(\n",
        "\n",
        "    {\n",
        "\n",
        "        \"B\": [\"B2\", \"B3\", \"B6\", \"B7\"],\n",
        "\n",
        "        \"D\": [\"D2\", \"D3\", \"D6\", \"D7\"],\n",
        "\n",
        "        \"F\": [\"F2\", \"F3\", \"F6\", \"F7\"],\n",
        "\n",
        "    },\n",
        "\n",
        "    index=[2, 3, 6, 7],\n",
        "\n",
        ")\n",
        "\n",
        "# outer join by row axis = 0\n",
        "#print(pd.concat([df1, df4], axis=0, join=\"outer\"))\n",
        "\n",
        "# inner join by row axis = 0\n",
        "print(pd.concat([df1, df4], axis=0, join=\"inner\"))\n",
        "\n",
        "# outer join by column axis = 1\n",
        "print(pd.concat([df1, df4], axis=1, join=\"outer\"))\n",
        "# inner join by column axis = 1\n",
        "print(pd.concat([df1, df4], axis=1, join=\"inner\"))"
      ],
      "metadata": {
        "colab": {
          "base_uri": "https://localhost:8080/"
        },
        "id": "fLtV_nRAWioM",
        "outputId": "7427d263-fbf2-44f2-f7b2-1f8b077ed2f0"
      },
      "execution_count": 39,
      "outputs": [
        {
          "output_type": "stream",
          "name": "stdout",
          "text": [
            "<class 'list'>\n",
            "      A    B    C    D\n",
            "0    A0   B0   C0   D0\n",
            "1    A1   B1   C1   D1\n",
            "2    A2   B2   C2   D2\n",
            "3    A3   B3   C3   D3\n",
            "4    A4   B4   C4   D4\n",
            "5    A5   B5   C5   D5\n",
            "6    A6   B6   C6   D6\n",
            "7    A7   B7   C7   D7\n",
            "8    A8   B8   C8   D8\n",
            "9    A9   B9   C9   D9\n",
            "10  A10  B10  C10  D10\n",
            "11  A11  B11  C11  D11\n",
            "    B   D\n",
            "0  B0  D0\n",
            "1  B1  D1\n",
            "2  B2  D2\n",
            "3  B3  D3\n",
            "2  B2  D2\n",
            "3  B3  D3\n",
            "6  B6  D6\n",
            "7  B7  D7\n",
            "     A    B    C    D    B    D    F\n",
            "0   A0   B0   C0   D0  NaN  NaN  NaN\n",
            "1   A1   B1   C1   D1  NaN  NaN  NaN\n",
            "2   A2   B2   C2   D2   B2   D2   F2\n",
            "3   A3   B3   C3   D3   B3   D3   F3\n",
            "6  NaN  NaN  NaN  NaN   B6   D6   F6\n",
            "7  NaN  NaN  NaN  NaN   B7   D7   F7\n",
            "    A   B   C   D   B   D   F\n",
            "2  A2  B2  C2  D2  B2  D2  F2\n",
            "3  A3  B3  C3  D3  B3  D3  F3\n"
          ]
        }
      ]
    }
  ]
}